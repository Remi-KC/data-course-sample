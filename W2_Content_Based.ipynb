{
  "cells": [
    {
      "cell_type": "markdown",
      "metadata": {
        "id": "view-in-github",
        "colab_type": "text"
      },
      "source": [
        "<a href=\"https://colab.research.google.com/github/Remi-KC/data-course-sample/blob/main/sample_content_based.ipynb\" target=\"_parent\"><img src=\"https://colab.research.google.com/assets/colab-badge.svg\" alt=\"Open In Colab\"/></a>"
      ]
    },
    {
      "cell_type": "markdown",
      "id": "84de56a8",
      "metadata": {
        "id": "84de56a8"
      },
      "source": [
        "# Sample Code"
      ]
    },
    {
      "cell_type": "markdown",
      "id": "688675f5",
      "metadata": {
        "id": "688675f5"
      },
      "source": [
        "## 基礎建設"
      ]
    },
    {
      "cell_type": "code",
      "execution_count": null,
      "id": "b32226db",
      "metadata": {
        "scrolled": true,
        "id": "b32226db"
      },
      "outputs": [],
      "source": [
        "import pandas as pd\n",
        "import gzip, json\n",
        "import numpy as np\n",
        "import seaborn as sns\n",
        "from sklearn.feature_extraction.text import TfidfVectorizer\n",
        "from sklearn.metrics.pairwise import cosine_similarity\n",
        "from sklearn.metrics.pairwise import euclidean_distances\n",
        "from sklearn.preprocessing import StandardScaler\n",
        "\n",
        "def parse(path):\n",
        "    g = gzip.open(path, 'rb')\n",
        "    for l in g:\n",
        "        yield json.loads(l)\n",
        "\n",
        "def getDF(path):\n",
        "    i = 0\n",
        "    df = {}\n",
        "    for d in parse(path):\n",
        "        df[i] = d\n",
        "        i += 1\n",
        "    return pd.DataFrame.from_dict(df, orient='index')"
      ]
    },
    {
      "cell_type": "markdown",
      "id": "84ff0f9d",
      "metadata": {
        "id": "84ff0f9d"
      },
      "source": [
        "## 載入資料"
      ]
    },
    {
      "cell_type": "code",
      "execution_count": null,
      "id": "9402e9c7",
      "metadata": {
        "id": "9402e9c7"
      },
      "outputs": [],
      "source": [
        "!wget http://deepyeti.ucsd.edu/jianmo/amazon/categoryFilesSmall/All_Beauty.csv\n",
        "!wget http://deepyeti.ucsd.edu/jianmo/amazon/metaFiles2/meta_All_Beauty.json.gz"
      ]
    },
    {
      "cell_type": "code",
      "execution_count": null,
      "id": "20e50ad9",
      "metadata": {
        "id": "20e50ad9"
      },
      "outputs": [],
      "source": [
        "metadata = getDF('/Users/remikc/DA/AC_DataSeed/HW/meta_All_Beauty.json.gz')\n",
        "ratings = pd.read_csv('/Users/remikc/DA/AC_DataSeed/HW/All_Beauty.csv', names=['asin', 'reviewerID', 'overall', 'unixReviewTime'], header=None)"
      ]
    },
    {
      "cell_type": "code",
      "execution_count": null,
      "id": "84b66cc7",
      "metadata": {
        "id": "84b66cc7"
      },
      "outputs": [],
      "source": [
        "metadata = getDF('/content/meta_All_Beauty.json.gz')\n",
        "ratings = pd.read_csv('/content/All_Beauty.csv', names=['asin', 'reviewerID', 'overall', 'unixReviewTime'], header=None)"
      ]
    },
    {
      "cell_type": "code",
      "execution_count": null,
      "id": "9fd77203",
      "metadata": {
        "id": "9fd77203",
        "outputId": "742d8dfe-3d8e-4ec4-994c-dfb14fce86de"
      },
      "outputs": [
        {
          "data": {
            "text/html": [
              "<div>\n",
              "<style scoped>\n",
              "    .dataframe tbody tr th:only-of-type {\n",
              "        vertical-align: middle;\n",
              "    }\n",
              "\n",
              "    .dataframe tbody tr th {\n",
              "        vertical-align: top;\n",
              "    }\n",
              "\n",
              "    .dataframe thead th {\n",
              "        text-align: right;\n",
              "    }\n",
              "</style>\n",
              "<table border=\"1\" class=\"dataframe\">\n",
              "  <thead>\n",
              "    <tr style=\"text-align: right;\">\n",
              "      <th></th>\n",
              "      <th>category</th>\n",
              "      <th>tech1</th>\n",
              "      <th>description</th>\n",
              "      <th>fit</th>\n",
              "      <th>title</th>\n",
              "      <th>also_buy</th>\n",
              "      <th>tech2</th>\n",
              "      <th>brand</th>\n",
              "      <th>feature</th>\n",
              "      <th>rank</th>\n",
              "      <th>also_view</th>\n",
              "      <th>details</th>\n",
              "      <th>main_cat</th>\n",
              "      <th>similar_item</th>\n",
              "      <th>date</th>\n",
              "      <th>price</th>\n",
              "      <th>asin</th>\n",
              "      <th>imageURL</th>\n",
              "      <th>imageURLHighRes</th>\n",
              "    </tr>\n",
              "  </thead>\n",
              "  <tbody>\n",
              "    <tr>\n",
              "      <th>0</th>\n",
              "      <td>[]</td>\n",
              "      <td></td>\n",
              "      <td>[Loud 'N Clear Personal Sound Amplifier allows...</td>\n",
              "      <td></td>\n",
              "      <td>Loud 'N Clear&amp;trade; Personal Sound Amplifier</td>\n",
              "      <td>[]</td>\n",
              "      <td></td>\n",
              "      <td>idea village</td>\n",
              "      <td>[]</td>\n",
              "      <td>2,938,573 in Beauty &amp; Personal Care (</td>\n",
              "      <td>[]</td>\n",
              "      <td>{'ASIN: ': '6546546450'}</td>\n",
              "      <td>All Beauty</td>\n",
              "      <td></td>\n",
              "      <td></td>\n",
              "      <td></td>\n",
              "      <td>6546546450</td>\n",
              "      <td>[]</td>\n",
              "      <td>[]</td>\n",
              "    </tr>\n",
              "    <tr>\n",
              "      <th>1</th>\n",
              "      <td>[]</td>\n",
              "      <td></td>\n",
              "      <td>[No7 Lift &amp; Luminate Triple Action Serum 50ml ...</td>\n",
              "      <td></td>\n",
              "      <td>No7 Lift &amp;amp; Luminate Triple Action Serum 50...</td>\n",
              "      <td>[B01E7LCSL6, B008X5RVME]</td>\n",
              "      <td></td>\n",
              "      <td></td>\n",
              "      <td>[]</td>\n",
              "      <td>872,854 in Beauty &amp; Personal Care (</td>\n",
              "      <td>[]</td>\n",
              "      <td>{'Shipping Weight:': '0.3 ounces (', 'ASIN: ':...</td>\n",
              "      <td>All Beauty</td>\n",
              "      <td>class=\"a-bordered a-horizontal-stripes  a-spa...</td>\n",
              "      <td></td>\n",
              "      <td>$44.99</td>\n",
              "      <td>7178680776</td>\n",
              "      <td>[]</td>\n",
              "      <td>[]</td>\n",
              "    </tr>\n",
              "    <tr>\n",
              "      <th>2</th>\n",
              "      <td>[]</td>\n",
              "      <td></td>\n",
              "      <td>[No7 Stay Perfect Foundation now stays perfect...</td>\n",
              "      <td></td>\n",
              "      <td>No7 Stay Perfect Foundation Cool Vanilla by No7</td>\n",
              "      <td>[]</td>\n",
              "      <td></td>\n",
              "      <td>No7</td>\n",
              "      <td>[]</td>\n",
              "      <td>956,696 in Beauty &amp; Personal Care (</td>\n",
              "      <td>[B01B8BR0O8, B01B8BR0NO, B014MHXXM8]</td>\n",
              "      <td>{'Shipping Weight:': '3.5 ounces (', 'ASIN: ':...</td>\n",
              "      <td>All Beauty</td>\n",
              "      <td></td>\n",
              "      <td></td>\n",
              "      <td>$28.76</td>\n",
              "      <td>7250468162</td>\n",
              "      <td>[]</td>\n",
              "      <td>[]</td>\n",
              "    </tr>\n",
              "    <tr>\n",
              "      <th>3</th>\n",
              "      <td>[]</td>\n",
              "      <td></td>\n",
              "      <td>[]</td>\n",
              "      <td></td>\n",
              "      <td>Wella Koleston Perfect Hair Colour 44/44 Mediu...</td>\n",
              "      <td>[B0041PBXX8]</td>\n",
              "      <td></td>\n",
              "      <td></td>\n",
              "      <td>[]</td>\n",
              "      <td>1,870,258 in Beauty &amp; Personal Care (</td>\n",
              "      <td>[]</td>\n",
              "      <td>{'\n",
              "    Item Weight: \n",
              "    ': '1.76 ounces', 'Sh...</td>\n",
              "      <td>All Beauty</td>\n",
              "      <td></td>\n",
              "      <td></td>\n",
              "      <td></td>\n",
              "      <td>7367905066</td>\n",
              "      <td>[https://images-na.ssl-images-amazon.com/image...</td>\n",
              "      <td>[https://images-na.ssl-images-amazon.com/image...</td>\n",
              "    </tr>\n",
              "    <tr>\n",
              "      <th>4</th>\n",
              "      <td>[]</td>\n",
              "      <td></td>\n",
              "      <td>[Lacto Calamine Skin Balance Daily Nourishing ...</td>\n",
              "      <td></td>\n",
              "      <td>Lacto Calamine Skin Balance Oil control 120 ml...</td>\n",
              "      <td>[]</td>\n",
              "      <td></td>\n",
              "      <td>Pirmal Healthcare</td>\n",
              "      <td>[]</td>\n",
              "      <td>67,701 in Beauty &amp; Personal Care (</td>\n",
              "      <td>[3254895630, B007VL1D9S, B00EH9A0RI, B0773MBG4...</td>\n",
              "      <td>{'Shipping Weight:': '12 ounces (', 'ASIN: ': ...</td>\n",
              "      <td>All Beauty</td>\n",
              "      <td></td>\n",
              "      <td></td>\n",
              "      <td>$12.15</td>\n",
              "      <td>7414204790</td>\n",
              "      <td>[https://images-na.ssl-images-amazon.com/image...</td>\n",
              "      <td>[https://images-na.ssl-images-amazon.com/image...</td>\n",
              "    </tr>\n",
              "  </tbody>\n",
              "</table>\n",
              "</div>"
            ],
            "text/plain": [
              "  category tech1                                        description fit  \\\n",
              "0       []        [Loud 'N Clear Personal Sound Amplifier allows...       \n",
              "1       []        [No7 Lift & Luminate Triple Action Serum 50ml ...       \n",
              "2       []        [No7 Stay Perfect Foundation now stays perfect...       \n",
              "3       []                                                       []       \n",
              "4       []        [Lacto Calamine Skin Balance Daily Nourishing ...       \n",
              "\n",
              "                                               title  \\\n",
              "0      Loud 'N Clear&trade; Personal Sound Amplifier   \n",
              "1  No7 Lift &amp; Luminate Triple Action Serum 50...   \n",
              "2    No7 Stay Perfect Foundation Cool Vanilla by No7   \n",
              "3  Wella Koleston Perfect Hair Colour 44/44 Mediu...   \n",
              "4  Lacto Calamine Skin Balance Oil control 120 ml...   \n",
              "\n",
              "                   also_buy tech2              brand feature  \\\n",
              "0                        []             idea village      []   \n",
              "1  [B01E7LCSL6, B008X5RVME]                               []   \n",
              "2                        []                      No7      []   \n",
              "3              [B0041PBXX8]                               []   \n",
              "4                        []        Pirmal Healthcare      []   \n",
              "\n",
              "                                    rank  \\\n",
              "0  2,938,573 in Beauty & Personal Care (   \n",
              "1    872,854 in Beauty & Personal Care (   \n",
              "2    956,696 in Beauty & Personal Care (   \n",
              "3  1,870,258 in Beauty & Personal Care (   \n",
              "4     67,701 in Beauty & Personal Care (   \n",
              "\n",
              "                                           also_view  \\\n",
              "0                                                 []   \n",
              "1                                                 []   \n",
              "2               [B01B8BR0O8, B01B8BR0NO, B014MHXXM8]   \n",
              "3                                                 []   \n",
              "4  [3254895630, B007VL1D9S, B00EH9A0RI, B0773MBG4...   \n",
              "\n",
              "                                             details    main_cat  \\\n",
              "0                           {'ASIN: ': '6546546450'}  All Beauty   \n",
              "1  {'Shipping Weight:': '0.3 ounces (', 'ASIN: ':...  All Beauty   \n",
              "2  {'Shipping Weight:': '3.5 ounces (', 'ASIN: ':...  All Beauty   \n",
              "3  {'\n",
              "    Item Weight: \n",
              "    ': '1.76 ounces', 'Sh...  All Beauty   \n",
              "4  {'Shipping Weight:': '12 ounces (', 'ASIN: ': ...  All Beauty   \n",
              "\n",
              "                                        similar_item date   price        asin  \\\n",
              "0                                                                  6546546450   \n",
              "1   class=\"a-bordered a-horizontal-stripes  a-spa...       $44.99  7178680776   \n",
              "2                                                          $28.76  7250468162   \n",
              "3                                                                  7367905066   \n",
              "4                                                          $12.15  7414204790   \n",
              "\n",
              "                                            imageURL  \\\n",
              "0                                                 []   \n",
              "1                                                 []   \n",
              "2                                                 []   \n",
              "3  [https://images-na.ssl-images-amazon.com/image...   \n",
              "4  [https://images-na.ssl-images-amazon.com/image...   \n",
              "\n",
              "                                     imageURLHighRes  \n",
              "0                                                 []  \n",
              "1                                                 []  \n",
              "2                                                 []  \n",
              "3  [https://images-na.ssl-images-amazon.com/image...  \n",
              "4  [https://images-na.ssl-images-amazon.com/image...  "
            ]
          },
          "execution_count": 4,
          "metadata": {},
          "output_type": "execute_result"
        }
      ],
      "source": [
        "metadata.head()"
      ]
    },
    {
      "cell_type": "code",
      "execution_count": null,
      "id": "b402792c",
      "metadata": {
        "id": "b402792c",
        "outputId": "2439fd5f-ab0b-4732-ff4b-0bfc16f8acbc"
      },
      "outputs": [
        {
          "data": {
            "text/html": [
              "<div>\n",
              "<style scoped>\n",
              "    .dataframe tbody tr th:only-of-type {\n",
              "        vertical-align: middle;\n",
              "    }\n",
              "\n",
              "    .dataframe tbody tr th {\n",
              "        vertical-align: top;\n",
              "    }\n",
              "\n",
              "    .dataframe thead th {\n",
              "        text-align: right;\n",
              "    }\n",
              "</style>\n",
              "<table border=\"1\" class=\"dataframe\">\n",
              "  <thead>\n",
              "    <tr style=\"text-align: right;\">\n",
              "      <th></th>\n",
              "      <th>asin</th>\n",
              "      <th>reviewerID</th>\n",
              "      <th>overall</th>\n",
              "      <th>unixReviewTime</th>\n",
              "    </tr>\n",
              "  </thead>\n",
              "  <tbody>\n",
              "    <tr>\n",
              "      <th>0</th>\n",
              "      <td>0143026860</td>\n",
              "      <td>A1V6B6TNIC10QE</td>\n",
              "      <td>1.0</td>\n",
              "      <td>1424304000</td>\n",
              "    </tr>\n",
              "    <tr>\n",
              "      <th>1</th>\n",
              "      <td>0143026860</td>\n",
              "      <td>A2F5GHSXFQ0W6J</td>\n",
              "      <td>4.0</td>\n",
              "      <td>1418860800</td>\n",
              "    </tr>\n",
              "    <tr>\n",
              "      <th>2</th>\n",
              "      <td>0143026860</td>\n",
              "      <td>A1572GUYS7DGSR</td>\n",
              "      <td>4.0</td>\n",
              "      <td>1407628800</td>\n",
              "    </tr>\n",
              "    <tr>\n",
              "      <th>3</th>\n",
              "      <td>0143026860</td>\n",
              "      <td>A1PSGLFK1NSVO</td>\n",
              "      <td>5.0</td>\n",
              "      <td>1362960000</td>\n",
              "    </tr>\n",
              "    <tr>\n",
              "      <th>4</th>\n",
              "      <td>0143026860</td>\n",
              "      <td>A6IKXKZMTKGSC</td>\n",
              "      <td>5.0</td>\n",
              "      <td>1324771200</td>\n",
              "    </tr>\n",
              "  </tbody>\n",
              "</table>\n",
              "</div>"
            ],
            "text/plain": [
              "         asin      reviewerID  overall  unixReviewTime\n",
              "0  0143026860  A1V6B6TNIC10QE      1.0      1424304000\n",
              "1  0143026860  A2F5GHSXFQ0W6J      4.0      1418860800\n",
              "2  0143026860  A1572GUYS7DGSR      4.0      1407628800\n",
              "3  0143026860   A1PSGLFK1NSVO      5.0      1362960000\n",
              "4  0143026860   A6IKXKZMTKGSC      5.0      1324771200"
            ]
          },
          "execution_count": 6,
          "metadata": {},
          "output_type": "execute_result"
        }
      ],
      "source": [
        "ratings.head()"
      ]
    },
    {
      "cell_type": "markdown",
      "id": "695362e3",
      "metadata": {
        "id": "695362e3"
      },
      "source": [
        "## 資料整理"
      ]
    },
    {
      "cell_type": "code",
      "execution_count": null,
      "id": "b552fb23",
      "metadata": {
        "id": "b552fb23"
      },
      "outputs": [],
      "source": [
        "ratings['DATE'] = pd.to_datetime(ratings['unixReviewTime'], unit='s')"
      ]
    },
    {
      "cell_type": "code",
      "execution_count": null,
      "id": "f793aaac",
      "metadata": {
        "id": "f793aaac"
      },
      "outputs": [],
      "source": [
        "# 利用 rank 中的類別資訊，刪除非美妝類產品，並刪除重複項\n",
        "metadataB = metadata\n",
        "for i in range(len(metadata)):\n",
        "    if not 'Beauty' in metadata.loc[i]['rank']:\n",
        "        metadataB = metadataB.drop(index = i)\n",
        "metadataB.drop_duplicates('asin', inplace = True)\n",
        "\n",
        "# 轉換 rank 資料成數字\n",
        "splitR=metadataB['rank'].str.split(n=1, expand=True).rename(columns={0:'rank', 1:'cat'})\n",
        "rank=splitR['rank'].replace(',','',regex=True)\n",
        "rank=pd.to_numeric(rank)\n",
        "metadataB = metadataB[['asin','title','description','brand','price']].join(rank)\n",
        "\n",
        "# 轉換 price 資料成數字\n",
        "splitP=metadataB['price'].str.split('$', expand=True).rename(columns={0:'none', 1:'price'})\n",
        "price=splitP['price'].replace(',','',regex=True)\n",
        "metadataB['price'] = pd.to_numeric(price)"
      ]
    },
    {
      "cell_type": "markdown",
      "id": "054eeba4",
      "metadata": {
        "id": "054eeba4"
      },
      "source": [
        "## 資料切分"
      ]
    },
    {
      "cell_type": "code",
      "execution_count": null,
      "id": "284b14a8",
      "metadata": {
        "id": "284b14a8"
      },
      "outputs": [],
      "source": [
        "ratings_trainings = ratings[\n",
        "    (ratings['DATE'] < '2018-09-01')\n",
        "]\n",
        "ratings_testings = ratings[\n",
        "    (ratings['DATE'] >= '2018-09-01') & \n",
        "    (ratings['DATE'] <= '2018-09-30')\n",
        "]\n",
        "ratings_testings_by_user = ratings_testings.groupby('reviewerID').agg(list).reset_index()[['reviewerID', 'asin']].to_dict('records')\n",
        "ratings_testings_by_user = { rating['reviewerID']: rating['asin'] for rating in ratings_testings_by_user }\n",
        "users = list(ratings_testings_by_user.keys())\n",
        "\n",
        "# 篩選出近一個月購買資料\n",
        "train_1m = ratings[(ratings['DATE'] >= '2018-08-01') & (ratings['DATE'] <= '2018-08-31')]\n",
        "\n",
        "# 產生舊戶名單\n",
        "reg_cus = set(users) & set(ratings_trainings['reviewerID'])\n"
      ]
    },
    {
      "cell_type": "code",
      "execution_count": null,
      "id": "0da8aa79",
      "metadata": {
        "id": "0da8aa79",
        "outputId": "b94161a6-25a6-485f-b34b-58dad56c9752"
      },
      "outputs": [
        {
          "data": {
            "text/html": [
              "<div>\n",
              "<style scoped>\n",
              "    .dataframe tbody tr th:only-of-type {\n",
              "        vertical-align: middle;\n",
              "    }\n",
              "\n",
              "    .dataframe tbody tr th {\n",
              "        vertical-align: top;\n",
              "    }\n",
              "\n",
              "    .dataframe thead th {\n",
              "        text-align: right;\n",
              "    }\n",
              "</style>\n",
              "<table border=\"1\" class=\"dataframe\">\n",
              "  <thead>\n",
              "    <tr style=\"text-align: right;\">\n",
              "      <th></th>\n",
              "      <th>asin</th>\n",
              "      <th>title</th>\n",
              "      <th>rank</th>\n",
              "      <th>price</th>\n",
              "    </tr>\n",
              "  </thead>\n",
              "  <tbody>\n",
              "    <tr>\n",
              "      <th>0</th>\n",
              "      <td>B01H6W0UH2</td>\n",
              "      <td>Technic Colour Fix Cream 8 Colour Corrector Pa...</td>\n",
              "      <td>233719.0</td>\n",
              "      <td>5.99</td>\n",
              "    </tr>\n",
              "    <tr>\n",
              "      <th>1</th>\n",
              "      <td>B0195R1FT8</td>\n",
              "      <td>Booty Magic | Butt Enhancement Cream - 2 Month...</td>\n",
              "      <td>20807.0</td>\n",
              "      <td>39.95</td>\n",
              "    </tr>\n",
              "    <tr>\n",
              "      <th>2</th>\n",
              "      <td>B002OITLG0</td>\n",
              "      <td>Fairy Tales Tangle Tamer Static Free &amp;nbsp;De...</td>\n",
              "      <td>872.0</td>\n",
              "      <td>8.40</td>\n",
              "    </tr>\n",
              "    <tr>\n",
              "      <th>3</th>\n",
              "      <td>B000WYJTZG</td>\n",
              "      <td>Helen of Troy 1579 Tangle Free Hot Air Brush, ...</td>\n",
              "      <td>4421.0</td>\n",
              "      <td>28.70</td>\n",
              "    </tr>\n",
              "    <tr>\n",
              "      <th>4</th>\n",
              "      <td>B00NFUXX6K</td>\n",
              "      <td>Got 2B Powder'Ful Volumizing Style Powder 0.35...</td>\n",
              "      <td>6124.0</td>\n",
              "      <td>13.88</td>\n",
              "    </tr>\n",
              "  </tbody>\n",
              "</table>\n",
              "</div>"
            ],
            "text/plain": [
              "         asin                                              title      rank  \\\n",
              "0  B01H6W0UH2  Technic Colour Fix Cream 8 Colour Corrector Pa...  233719.0   \n",
              "1  B0195R1FT8  Booty Magic | Butt Enhancement Cream - 2 Month...   20807.0   \n",
              "2  B002OITLG0   Fairy Tales Tangle Tamer Static Free &nbsp;De...     872.0   \n",
              "3  B000WYJTZG  Helen of Troy 1579 Tangle Free Hot Air Brush, ...    4421.0   \n",
              "4  B00NFUXX6K  Got 2B Powder'Ful Volumizing Style Powder 0.35...    6124.0   \n",
              "\n",
              "   price  \n",
              "0   5.99  \n",
              "1  39.95  \n",
              "2   8.40  \n",
              "3  28.70  \n",
              "4  13.88  "
            ]
          },
          "execution_count": 9,
          "metadata": {},
          "output_type": "execute_result"
        }
      ],
      "source": [
        "#製作欲比較之商品列表 asin（前一個月被購買過的商品＋舊客戶購買過的商品(51)＝866項）\n",
        "reg_cus_ = ratings_testings.merge(ratings_trainings[['reviewerID','asin']], how='left', on='reviewerID')\n",
        "reg_cus_buy = reg_cus_[['reviewerID','asin_y']].rename(columns={'asin_y':'asin'}).dropna().drop_duplicates('asin')\n",
        "asin = pd.concat([reg_cus_buy['asin'], train_1m['asin']]).drop_duplicates().reset_index().drop(columns=['index'])\n",
        "\n",
        "#加入處理後商品資訊'title','rank','price'，刪除資訊不齊的品項後，共計632筆。 \n",
        "asin_info = asin.merge(metadataB[['asin','title','rank','price']], how='left', on='asin').replace('', np.nan).dropna().reset_index().drop(columns=['index'])\n",
        "asin_info.head() "
      ]
    },
    {
      "cell_type": "markdown",
      "id": "fc75fe35",
      "metadata": {
        "id": "fc75fe35"
      },
      "source": [
        "## 資料探索與特徵選擇"
      ]
    },
    {
      "cell_type": "markdown",
      "id": "1f42dc32",
      "metadata": {
        "id": "1f42dc32"
      },
      "source": [
        "* 探索目的：篩選特徵\n",
        "* 探索邏輯：想選出某些特徵是-商品如果在這些特徵越相近，購買數/評論數也會越接近。（賣得好的商品，有些特徵很像，同理，賣得不好的產品也是）\n",
        "* 方法：計算特徵相似度後，和購買數/評論數相似度（Euclidean distance）做二級相關，看相關是否顯著。 \n",
        "* 特徵：品名(title)、銷售排行(rank)、價錢(price)、評價(overall)、品牌(brand)\n",
        "\n",
        "  \n",
        "* 註：檢定部分採用permutation，比spearmanr嚴格些。\n"
      ]
    },
    {
      "cell_type": "code",
      "execution_count": null,
      "id": "ffcbde3b",
      "metadata": {
        "id": "ffcbde3b"
      },
      "outputs": [],
      "source": [
        "# 計算每件商品的購買數/評論數\n",
        "train_1m_buy=train_1m.groupby('asin').agg({'asin':'count'}).rename(columns={'asin':'count'}).reset_index()\n",
        "\n",
        "# 計算每件商品的平均評價\n",
        "rate_1m=train_1m.groupby('asin').agg({'overall':'mean'}).rename(columns={'overall':'rate'}).reset_index()\n",
        "\n",
        "# 加入購買數和評價資料\n",
        "train_1m_data=train_1m_buy.merge(rate_1m, how = 'left', on = 'asin').merge(metadataB, how = 'left', on = 'asin')\n"
      ]
    },
    {
      "cell_type": "code",
      "execution_count": null,
      "id": "d0caddcb",
      "metadata": {
        "id": "d0caddcb"
      },
      "outputs": [],
      "source": [
        "# 定義 permutation 函數，這邊採用 Mantel test，用來檢定兩個矩陣的相關性\n",
        "from scipy.stats import spearmanr\n",
        "def _permute_func(data1, data2, random_state=None):\n",
        "    \n",
        "    random_state = check_random_state(random_state)\n",
        "\n",
        "    data_row_id = range(data1.shape[0])\n",
        "    permuted_ix = np.random.choice(data_row_id, size=len(data_row_id), replace=False)\n",
        "    new_fmri_dist = data1.iloc[permuted_ix, permuted_ix].values\n",
        "    new_fmri_dist = new_fmri_dist[np.triu_indices(new_fmri_dist.shape[0], k=1)]\n",
        "    return spearmanr(new_fmri_dist, data2)[0]"
      ]
    },
    {
      "cell_type": "code",
      "execution_count": null,
      "id": "4ac20e0b",
      "metadata": {
        "id": "4ac20e0b"
      },
      "outputs": [],
      "source": [
        "# 定義計算 p-value 的函數\n",
        "def _calc_pvalue(all_p, stat, tail):\n",
        "\n",
        "    denom = float(len(all_p)) + 1\n",
        "    if tail == 1:\n",
        "        numer = np.sum(all_p >= stat) + 1 if stat >= 0 else np.sum(all_p <= stat) + 1\n",
        "    elif tail == 2:\n",
        "        numer = np.sum(np.abs(all_p) >= np.abs(stat)) + 1\n",
        "    else:\n",
        "        raise ValueError(\"tail must be either 1 or 2\")\n",
        "    return numer / denom"
      ]
    },
    {
      "cell_type": "code",
      "execution_count": null,
      "id": "e84f6940",
      "metadata": {
        "id": "e84f6940"
      },
      "outputs": [],
      "source": [
        "# 定義矩陣相關檢驗函數\n",
        "from joblib import Parallel, delayed\n",
        "from sklearn.utils import check_random_state\n",
        "from scipy.spatial.distance import squareform\n",
        "MAX_INT = np.iinfo(np.int32).max\n",
        "\n",
        "def matrix_permutation(\n",
        "    data1,\n",
        "    data2,\n",
        "    n_permute=5000,\n",
        "    tail=2,\n",
        "    n_jobs=3,\n",
        "    return_perms=False,\n",
        "    random_state=None,\n",
        "):\n",
        "    random_state = check_random_state(random_state)\n",
        "    seeds = random_state.randint(MAX_INT, size=n_permute)\n",
        "    sq_data1 = squareform(data1)\n",
        "   \n",
        "    stats = {\"rho\": spearmanr(data1, data2)[0]}\n",
        "\n",
        "    all_p = Parallel(n_jobs=n_jobs)(\n",
        "        delayed(_permute_func)(\n",
        "            pd.DataFrame(sq_data1), data2, random_state=seeds[i]\n",
        "        )\n",
        "        for i in range(n_permute)\n",
        "    )\n",
        "    stats[\"p\"] = _calc_pvalue(all_p, stats[\"rho\"], tail)\n",
        "    if return_perms:\n",
        "        stats[\"perm_dist\"] = all_p\n",
        "    return stats"
      ]
    },
    {
      "cell_type": "code",
      "execution_count": null,
      "id": "3087153c",
      "metadata": {
        "id": "3087153c",
        "outputId": "ff3b5d3d-7bfe-42d7-9416-deaba66188f1"
      },
      "outputs": [
        {
          "data": {
            "text/plain": [
              "{'rho': 0.03466791794973807, 'p': 0.0057988402319536095}"
            ]
          },
          "execution_count": 18,
          "metadata": {},
          "output_type": "execute_result"
        }
      ],
      "source": [
        "# title X buy_count---sig.\n",
        "\n",
        "train_1m_data_c = train_1m_data.dropna(subset=['title'])\n",
        "\n",
        "# 取得 品名 的 tfidf 矩陣\n",
        "tf = TfidfVectorizer(analyzer='word')\n",
        "tfidf_matrix_tm1 = tf.fit_transform(train_1m_data_c['title'])\n",
        "\n",
        "# 計算商品間的 品名 相似程度\n",
        "sim_matrix_tm1 = cosine_similarity(tfidf_matrix_tm1)\n",
        "\n",
        "# 計算商品間的 購買數/評論數 相似程度\n",
        "sim_matrix_cm1 = euclidean_distances(train_1m_data_c['count'].array.reshape(-1, 1) )\n",
        "\n",
        "# 取矩陣的上三角形＝商品間兩兩配對相似值\n",
        "sim_cm1=sim_matrix_cm1[np.triu_indices(sim_matrix_cm1.shape[0], 1)]\n",
        "sim_tm1=sim_matrix_tm1[np.triu_indices(sim_matrix_tm1.shape[0], 1)]\n",
        "\n",
        "# 計算 品名相似度 和 購買數相似度 之間的相關值：顯著\n",
        "matrix_permutation(sim_cm1,sim_tm1)"
      ]
    },
    {
      "cell_type": "code",
      "execution_count": null,
      "id": "be945f1d",
      "metadata": {
        "id": "be945f1d",
        "outputId": "7501ddb5-3b93-4118-8ccf-af0b4d3b3cce"
      },
      "outputs": [
        {
          "data": {
            "text/plain": [
              "{'rho': -0.04549966978492659, 'p': 0.020595880823835233}"
            ]
          },
          "execution_count": 19,
          "metadata": {},
          "output_type": "execute_result"
        }
      ],
      "source": [
        "# rank X buy_count---sig.\n",
        "train_1m_data_c = train_1m_data.dropna(subset=['rank'])\n",
        "\n",
        "# 計算商品間的 銷售排行 相似程度\n",
        "sim_matrix_rm1 = euclidean_distances(train_1m_data_c['rank'].array.reshape(-1, 1) )\n",
        "\n",
        "# 取矩陣的上三角形＝商品間兩兩配對 銷售排行 相似值\n",
        "sim_rm1=sim_matrix_rm1[np.triu_indices(sim_matrix_rm1.shape[0], 1)]\n",
        "\n",
        "# 計算 銷售排行相似度 和 購買數相似度 之間的相關值：顯著\n",
        "matrix_permutation(sim_cm1,sim_rm1)"
      ]
    },
    {
      "cell_type": "code",
      "execution_count": null,
      "id": "dd5fe397",
      "metadata": {
        "id": "dd5fe397",
        "outputId": "c7f0b48e-761d-41ea-a035-27356a21f42c"
      },
      "outputs": [
        {
          "data": {
            "text/plain": [
              "{'rho': -0.06208782321542544, 'p': 0.016996600679864027}"
            ]
          },
          "execution_count": 20,
          "metadata": {},
          "output_type": "execute_result"
        }
      ],
      "source": [
        "#price X buy_count---sig.\n",
        "train_1m_data_c = train_1m_data.dropna(subset=['price'])\n",
        "\n",
        "# 計算商品間的 價錢 相似程度\n",
        "sim_matrix_pm1 = euclidean_distances(train_1m_data_c['price'].array.reshape(-1, 1) )\n",
        "\n",
        "# 取矩陣的上三角形＝商品間兩兩配對 價錢 相似值\n",
        "sim_pm1=sim_matrix_pm1[np.triu_indices(sim_matrix_pm1.shape[0], 1)]\n",
        "\n",
        "# 計算 價錢相似度 和 購買數相似度 之間的相關值：顯著\n",
        "matrix_permutation(sim_cm1,sim_pm1)"
      ]
    },
    {
      "cell_type": "code",
      "execution_count": null,
      "id": "6d29f867",
      "metadata": {
        "id": "6d29f867",
        "outputId": "cabab4e3-4468-42c5-f1f6-ab6676b4f124"
      },
      "outputs": [
        {
          "data": {
            "text/plain": [
              "{'rho': 0.029417608649952864, 'p': 0.1349730053989202}"
            ]
          },
          "execution_count": 21,
          "metadata": {},
          "output_type": "execute_result"
        }
      ],
      "source": [
        "# overall(rate) X buy_count---non-sig.\n",
        "train_1m_data_c = train_1m_data.dropna(subset=['rate'])\n",
        "\n",
        "# 計算商品間的 評價 相似程度\n",
        "sim_matrix_om1 = euclidean_distances(train_1m_data_c['rate'].array.reshape(-1, 1) )\n",
        "\n",
        "# 取矩陣的上三角形＝商品間兩兩配對 評價 相似值\n",
        "sim_om1=sim_matrix_om1[np.triu_indices(sim_matrix_om1.shape[0], 1)]\n",
        "\n",
        "# 計算 評價相似度 和 購買數相似度 之間的相關值：不顯著\n",
        "matrix_permutation(sim_cm1,sim_om1)"
      ]
    },
    {
      "cell_type": "code",
      "execution_count": null,
      "id": "301203db",
      "metadata": {
        "id": "301203db",
        "outputId": "0238820e-b3af-489e-c2fb-079a332ba593"
      },
      "outputs": [
        {
          "data": {
            "text/plain": [
              "<AxesSubplot:xlabel='rate', ylabel='count'>"
            ]
          },
          "execution_count": 24,
          "metadata": {},
          "output_type": "execute_result"
        },
        {
          "data": {
            "image/png": "[encoded data removed]",
            "text/plain": [
              "<Figure size 432x288 with 1 Axes>"
            ]
          },
          "metadata": {
            "needs_background": "light"
          },
          "output_type": "display_data"
        }
      ],
      "source": [
        "# 評價 和 購買量 沒有明顯關聯\n",
        "sns.scatterplot(x = train_1m_data['rate'], y= train_1m_data['count'])"
      ]
    },
    {
      "cell_type": "code",
      "execution_count": null,
      "id": "26076a89",
      "metadata": {
        "id": "26076a89",
        "outputId": "cdaf4451-e123-44dd-fc91-e28f527c752b"
      },
      "outputs": [
        {
          "data": {
            "text/plain": [
              "<AxesSubplot:xlabel='rate', ylabel='rank'>"
            ]
          },
          "execution_count": 25,
          "metadata": {},
          "output_type": "execute_result"
        },
        {
          "data": {
            "image/png": "[encoded data removed]",
            "text/plain": [
              "<Figure size 432x288 with 1 Axes>"
            ]
          },
          "metadata": {
            "needs_background": "light"
          },
          "output_type": "display_data"
        }
      ],
      "source": [
        "# 評價 和 銷售排行 也沒有明顯關聯\n",
        "sns.scatterplot(x = train_1m_data['rate'],y = train_1m_data['rank'])"
      ]
    },
    {
      "cell_type": "code",
      "execution_count": null,
      "id": "7efc3ac1",
      "metadata": {
        "id": "7efc3ac1",
        "outputId": "97d4217b-d16e-4fad-967b-be7ef61a7cd3"
      },
      "outputs": [
        {
          "data": {
            "text/plain": [
              "{'rho': 0.006710419905572132, 'p': 0.07078584283143372}"
            ]
          },
          "execution_count": 27,
          "metadata": {},
          "output_type": "execute_result"
        }
      ],
      "source": [
        "# brand X buy_count---non-sig.\n",
        "train_1m_data_c2 = train_1m_data_c.replace('',np.nan)\n",
        "train_1m_data_c2 = train_1m_data_c2.dropna(subset=['title', 'rank', 'price', 'brand'])\n",
        "\n",
        "# 清除 品牌 裡面的符號，避免同一個牌子被歸成不同項\n",
        "brand_c=train_1m_data_c2['brand']\n",
        "brand_c=brand_c.replace(\"'\",'',regex=True).replace('\\.','',regex=True).replace('\\(','',regex=True).replace('\\)','',regex=True).replace(',','',regex=True).replace('-','',regex=True)\n",
        "\n",
        "# 取得 品牌 的 One Hot Encoding (Dummies)\n",
        "brand_dum = pd.get_dummies(brand_c , columns = ['brand'])\n",
        "\n",
        "# 計算商品間的 品牌 相似程度\n",
        "sim_matrix_bm1 = cosine_similarity(brand_dum)\n",
        "\n",
        "# 計算商品間的 購買數/評論數 相似程度\n",
        "sim_matrix_cm1 = euclidean_distances(train_1m_data_c2['count'].array.reshape(-1, 1) )\n",
        "\n",
        "# 取矩陣的上三角形＝商品間兩兩配對 品牌、購買數 相似值\n",
        "sim_bm1=sim_matrix_bm1[np.triu_indices(sim_matrix_bm1.shape[0], 1)]\n",
        "sim_cm1=sim_matrix_cm1[np.triu_indices(sim_matrix_cm1.shape[0], 1)]\n",
        "\n",
        "# 計算 品牌相似度 和 購買數相似度 之間的相關值：不顯著\n",
        "matrix_permutation(sim_cm1,sim_bm1)\n",
        "\n"
      ]
    },
    {
      "cell_type": "code",
      "execution_count": null,
      "id": "c244da6d",
      "metadata": {
        "id": "c244da6d",
        "outputId": "939016c6-4a73-4875-b2a0-e25bba5cfb29"
      },
      "outputs": [
        {
          "data": {
            "text/plain": [
              "{'rho': 0.06272730697659003, 'p': 0.0001999600079984003}"
            ]
          },
          "execution_count": 30,
          "metadata": {},
          "output_type": "execute_result"
        }
      ],
      "source": [
        "# rank + price X buy_count---sig. \n",
        "train_1m_data_c = train_1m_data.dropna(subset=['title', 'rank', 'price'])\n",
        "\n",
        "# 合併 銷售排行 和 價錢，並取標準分數\n",
        "rp = train_1m_data_c[['rank', 'price']]\n",
        "rp_s = StandardScaler().fit_transform(rp)\n",
        "\n",
        "# 計算商品間的相似程度\n",
        "sim_matrix_rpm1 = cosine_similarity(rp_s)\n",
        "sim_matrix_cm1 = euclidean_distances(train_1m_data_c['count'].array.reshape(-1, 1) )\n",
        "\n",
        "# 取矩陣的上三角形＝商品間兩兩配對 銷售排行＋價錢、購買數 相似值\n",
        "sim_rpm1=sim_matrix_rpm1[np.triu_indices(sim_matrix_rpm1.shape[0], 1)]\n",
        "sim_cm1=sim_matrix_cm1[np.triu_indices(sim_matrix_cm1.shape[0], 1)]\n",
        "\n",
        "# 計算 銷售排行＋價錢相似度 和 購買數相似度 之間的相關值：顯著，而且變得比單一特徵更顯著\n",
        "matrix_permutation(sim_cm1,sim_rpm1)"
      ]
    },
    {
      "cell_type": "code",
      "execution_count": null,
      "id": "a4f27a31",
      "metadata": {
        "id": "a4f27a31",
        "outputId": "103b9651-5e75-4cf3-9904-255c3a66a15a"
      },
      "outputs": [
        {
          "data": {
            "text/plain": [
              "{'rho': 0.05184770629173921, 'p': 0.0009998000399920016}"
            ]
          },
          "execution_count": 31,
          "metadata": {},
          "output_type": "execute_result"
        }
      ],
      "source": [
        "# title + rank + price X buy_count---sig. \n",
        "train_1m_data_c = train_1m_data.dropna(subset=['title', 'rank', 'price'])\n",
        "\n",
        "# 取得 品名 的 tfidf 矩陣\n",
        "tfidf_matrix_tm1 = tf.fit_transform(train_1m_data_c['title'])\n",
        "\n",
        "# 合併 銷售排行 和 價錢，並取標準分數\n",
        "rp = train_1m_data_c[['rank', 'price']]\n",
        "rp_s = StandardScaler().fit_transform(rp)\n",
        "\n",
        "# 合併 品名+銷售排行+價錢，取得特徵向量\n",
        "vec_trpm1 = np.concatenate((np.matrix(tfidf_matrix_tm1.toarray()), rp_s), axis=1)\n",
        "\n",
        "# 計算商品間的相似程度\n",
        "sim_matrix_trpm1 = cosine_similarity(vec_trpm1)\n",
        "\n",
        "# 取矩陣的上三角形＝商品間兩兩配對 品名+銷售排行＋價錢 相似值\n",
        "sim_trpm1=sim_matrix_trpm1[np.triu_indices(sim_matrix_trpm1.shape[0], 1)]\n",
        "\n",
        "# 計算 品名+銷售排行＋價錢相似度 和 購買數相似度 之間的相關值：顯著，較 title 單一特徵顯著，但相較 rank + price 不那麼顯著\n",
        "matrix_permutation(sim_cm1,sim_trpm1)"
      ]
    },
    {
      "cell_type": "markdown",
      "id": "d906fb17",
      "metadata": {
        "id": "d906fb17"
      },
      "source": [
        "小結：\n",
        "* 評價：評價相似度和購買數相似度無關，而且評價和銷售、購買數都沒有多大關係，決定不處理這個特徵，也不刪掉評價低的商品。\n",
        "* 品牌：品牌相似度和購買數相似度無關，所以不處理這個特徵。\n",
        "* 品名、銷售排行、價錢：這三個特徵的相似度都和購買數相似度有顯著相關，因此三個特徵都會納入評估商品相似度。\n",
        "\n",
        "\n",
        "* 待測試：品名、銷售排行、價錢 三個特徵的組合方式。\n",
        " 1. 品名+銷售排行+價錢\n",
        " 2. 銷售排行+價錢\n",
        " 3. 品名 推薦兩個，其他都推 銷售排行+價錢"
      ]
    },
    {
      "cell_type": "markdown",
      "id": "a6c76061",
      "metadata": {
        "id": "a6c76061"
      },
      "source": [
        "## 產生推薦"
      ]
    },
    {
      "cell_type": "code",
      "execution_count": null,
      "id": "9280a043",
      "metadata": {
        "id": "9280a043"
      },
      "outputs": [],
      "source": [
        "# 1.舊戶推薦方法一\n",
        "\n",
        "# 特徵：品名、價錢、銷售排行\n",
        "# 客戶：舊\n",
        "\n",
        "\n",
        "# 計算商品用 title 所表示的 tfidf 矩陣\n",
        "tf = TfidfVectorizer(analyzer='word')\n",
        "tfidf_matrix_tm1 = tf.fit_transform(asin_info['title'])\n",
        "\n",
        "# 取得商品用 title + rank + price 所表示的特徵向量 (事先將 rank 和 price 轉成標準分數，降低測量指標不同的影響)\n",
        "rp = asin_info[['rank', 'price']]\n",
        "rp_s = StandardScaler().fit_transform(rp)\n",
        "vec_trpm1 = np.concatenate((np.matrix(tfidf_matrix_tm1.toarray()), rp_s), axis=1)\n",
        "mapping = pd.Series(asin_info.index,index = asin_info['asin'])\n",
        "\n",
        "# 計算商品間的相似程度\n",
        "sim_matrix = cosine_similarity(vec_trpm1)\n",
        "\n",
        "# 每個商品回傳 k 個最相近的商品\n",
        "def recommend_item(item_input, k=2):\n",
        "    try:\n",
        "        item_index = mapping[item_input]\n",
        "        similarity_score = list(enumerate(sim_matrix[item_index]))\n",
        "        similarity_score = sorted(similarity_score, key=lambda x: x[1], reverse=True)\n",
        "        similarity_score = similarity_score[:k]\n",
        "        item_indices = [i[0] for i in similarity_score]\n",
        "        return (asin_info['asin'].iloc[item_indices].tolist())\n",
        "    except:\n",
        "        return []\n",
        "\n",
        "# 利用使用者購買過的商品產生推薦\n",
        "def recommend_items(items, k):\n",
        "    res = []\n",
        "    for d in items:\n",
        "        res.extend(recommend_item(d, k))\n",
        "    return res\n",
        "\n",
        "\n",
        "# 只針對舊客戶，依據過去購買商品推薦相似的產品，不考慮新客戶，以評估只用內容推薦的成效。\n",
        "def recommender1(training_data, users=[], k=10):\n",
        "    '''\n",
        "    * training_data: dataframe 輸入的訓練資料集（2018-09-01 以前資料）\n",
        "    * users: [] 需要被推薦的使用者\n",
        "    * k: int 每個使用者需要推薦的商品數\n",
        "    * recommendations: dict\n",
        "      {\n",
        "          使用者一： [推薦商品一, 推薦商品二, ...],\n",
        "          使用者二： [...], ...\n",
        "      }\n",
        "    '''\n",
        "    recommendations = {}\n",
        "    '''\n",
        "    content-based\n",
        "    '''\n",
        "    ratings_trainings = training_data\n",
        "    recommendations = {user: recommend_items(asin_info[asin_info['asin'].isin(ratings_trainings\n",
        "                       [ratings_trainings['reviewerID'] == user]['asin'].tolist())]['asin'].tolist(), k) \n",
        "                       for user in users}\n",
        "    return recommendations\n",
        "\n",
        "ratings_by_user1 = recommender1(ratings_trainings, reg_cus)"
      ]
    },
    {
      "cell_type": "code",
      "execution_count": null,
      "id": "40a8f0c8",
      "metadata": {
        "id": "40a8f0c8"
      },
      "outputs": [],
      "source": [
        "# 2.舊戶推薦方法二\n",
        "\n",
        "# 特徵：價錢、銷售排行\n",
        "# 客戶：舊\n",
        "\n",
        "# 計算商品間的相似程度\n",
        "sim_matrix = cosine_similarity(rp_s)\n",
        "\n",
        "ratings_by_user2 = recommender1(ratings_trainings, reg_cus)\n"
      ]
    },
    {
      "cell_type": "code",
      "execution_count": null,
      "id": "1d95dfdc",
      "metadata": {
        "id": "1d95dfdc"
      },
      "outputs": [],
      "source": [
        "# 3.全部客戶推薦方法一\n",
        "\n",
        "# 特徵：品名、價錢、銷售排行\n",
        "# 客戶：新＋舊\n",
        "\n",
        "\n",
        "# 計算商品間的相似程度\n",
        "sim_matrix = cosine_similarity(vec_trpm1)\n",
        "\n",
        "# 針對舊客戶採取內容推薦，新客戶採取規則推薦，若舊客戶的內容推薦數量不足則採用規則推薦。\n",
        "def recommender2(training_data, users=[], k=10):\n",
        "    '''\n",
        "    * training_data: dataframe 輸入的訓練資料集（2018-09-01 以前資料）\n",
        "    * users: [] 需要被推薦的使用者\n",
        "    * k: int 每個使用者需要推薦的商品數\n",
        "    * recommendations: dict\n",
        "      {\n",
        "          使用者一： [推薦商品一, 推薦商品二, ...],\n",
        "          使用者二： [...], ...\n",
        "      }\n",
        "    '''\n",
        "    recommendations = {}\n",
        "    \n",
        "    \n",
        "    # 計算並排序商品支持度\n",
        "    score=(train_1m.groupby('asin')['overall'].size()/\n",
        "         train_1m.shape[0]).to_frame().reset_index().rename(columns={\"overall\": \"support\"})\n",
        "    score=score.sort_values(by=['support'], ascending=False)\n",
        "    \n",
        "    \n",
        "    # content-based若有可用推薦品，則推薦之，若無，則推薦支持度高的產品(rule-based)至k項\n",
        "    for user in users:\n",
        "        \n",
        "        recom = recommend_items(asin_info[asin_info['asin'].isin(ratings_trainings\n",
        "            [ratings_trainings['reviewerID'] == user]['asin'].tolist())]['asin'].tolist(), k)\n",
        "   \n",
        "        if recom:\n",
        "            recommendations[user] = recom\n",
        "            \n",
        "            if  k - len(recommendations[user]) > 0:\n",
        "                recommendations[user].extend(score['asin'][:(k - len(recommendations[user]))])\n",
        "        else:\n",
        "            recommendations[user] = score['asin'][:k].tolist()\n",
        "    \n",
        "    return recommendations\n",
        "\n",
        "\n",
        "ratings_by_user3 = recommender2(ratings_trainings, users)"
      ]
    },
    {
      "cell_type": "code",
      "execution_count": null,
      "id": "a7bb9dbe",
      "metadata": {
        "id": "a7bb9dbe"
      },
      "outputs": [],
      "source": [
        "# 4.全部客戶推薦方法二\n",
        "\n",
        "# 特徵：價錢、銷售排行\n",
        "# 客戶：新＋舊\n",
        "\n",
        "\n",
        "# 計算商品間的相似程度\n",
        "sim_matrix = cosine_similarity(rp_s)\n",
        "\n",
        "\n",
        "ratings_by_user4 = recommender2(ratings_trainings, users)"
      ]
    },
    {
      "cell_type": "markdown",
      "id": "04a4ca9e",
      "metadata": {
        "id": "04a4ca9e"
      },
      "source": [
        "## 結果評估"
      ]
    },
    {
      "cell_type": "code",
      "execution_count": null,
      "id": "ee763747",
      "metadata": {
        "id": "ee763747",
        "outputId": "e1f096ea-416b-4efc-8dc0-5c8484f716f8"
      },
      "outputs": [
        {
          "data": {
            "text/plain": [
              "0.02564102564102564"
            ]
          },
          "execution_count": 36,
          "metadata": {},
          "output_type": "execute_result"
        }
      ],
      "source": [
        "# 1.舊戶推薦方法一\n",
        "\n",
        "# 特徵：品名、價錢、銷售排行\n",
        "# 客戶：舊\n",
        "\n",
        "# 只針對舊客戶的內容推薦評估：Recall = 0.02564 很不理想，比上週只用規則推薦的效果還差。\n",
        "# 可能因為38位客戶中有高達14位沒有商品能推薦。這有可能是因為使用的商品特徵不足夠，或者顧客過去購買的商品非常冷門\n",
        "\n",
        "dict_filter = lambda x, y: dict([ (i,x[i]) for i in x if i in set(y) ])\n",
        "ratings_testings_by_reg_cus = dict_filter(ratings_testings_by_user, reg_cus)\n",
        "ratings_testings_reg_cus = pd.DataFrame(reg_cus).rename(columns={0:'reviewerID'}).merge(ratings_testings, how ='left', on='reviewerID')\n",
        "\n",
        "def evaluate1(ratings_testings_by_reg_cus={}, ratings_by_user={}, method=None):\n",
        "    '''\n",
        "    * ratings_testings_by_user: dict 真實被購買的商品資料（2018-09-01 以後資料）\n",
        "    * ratings_by_user: dict 利用訓練資料學習的推薦商品\n",
        "    * method: str\n",
        "    * score: float\n",
        "    '''\n",
        "    total = 0\n",
        "    for d in ratings_testings_by_reg_cus:\n",
        "        if d in ratings_by_user:\n",
        "            total += len(set(ratings_by_user[d]) & set(ratings_testings_by_reg_cus[d]))\n",
        "\n",
        "    score = total / len(ratings_testings_reg_cus)\n",
        "    return score\n",
        "\n",
        "evaluate1(ratings_testings_by_reg_cus, ratings_by_user1)\n"
      ]
    },
    {
      "cell_type": "code",
      "execution_count": null,
      "id": "f9cf5b6f",
      "metadata": {
        "id": "f9cf5b6f",
        "outputId": "e4ebf3a4-cd1a-4dbb-f84a-2cb6668f7cee"
      },
      "outputs": [
        {
          "data": {
            "text/plain": [
              "0.05128205128205128"
            ]
          },
          "execution_count": 44,
          "metadata": {},
          "output_type": "execute_result"
        }
      ],
      "source": [
        "# 2.舊戶推薦方法二\n",
        "\n",
        "# 特徵：價錢、銷售排行\n",
        "# 客戶：舊\n",
        "\n",
        "# 只用 價錢 和 銷售排行 針對舊客戶的內容推薦評估：Recall = 0.05128 比多加上 品名 特徵好一點，但仍然比上週只用規則推薦的效果還差。\n",
        "# 可能因為38位客戶中有高達14位沒有商品能推薦。這有可能是因為使用的商品特徵不足夠，或者顧客過去購買的商品非常冷門\n",
        "\n",
        "evaluate1(ratings_testings_by_reg_cus, ratings_by_user2)\n"
      ]
    },
    {
      "cell_type": "code",
      "execution_count": null,
      "id": "53055ac2",
      "metadata": {
        "id": "53055ac2",
        "outputId": "6deee48c-7ca2-4272-8f1d-9d2a33a7162d"
      },
      "outputs": [
        {
          "data": {
            "text/plain": [
              "0.15254237288135594"
            ]
          },
          "execution_count": 37,
          "metadata": {},
          "output_type": "execute_result"
        }
      ],
      "source": [
        "# 3.全部客戶推薦方法一\n",
        "\n",
        "# 特徵：品名、價錢、銷售排行\n",
        "# 客戶：新＋舊\n",
        "\n",
        "# 綜合兩種推薦規則評估：Recall = 0.15254 成效提升，但應該是因為規則推薦的部分比上週優化。\n",
        "\n",
        "def evaluate2(ratings_testings_by_user={}, ratings_by_user={}, method=None):\n",
        "    '''\n",
        "    * ratings_testings_by_user: dict 真實被購買的商品資料（2018-09-01 以後資料）\n",
        "    * ratings_by_user: dict 利用訓練資料學習的推薦商品\n",
        "    * method: str\n",
        "    * score: float\n",
        "    '''\n",
        "    total = 0\n",
        "    for d in ratings_testings_by_user:\n",
        "        if d in ratings_by_user:\n",
        "            total += len(set(ratings_by_user[d]) & set(ratings_testings_by_user[d]))\n",
        "\n",
        "    score = total / len(ratings_testings)\n",
        "    return score\n",
        "\n",
        "evaluate2(ratings_testings_by_user, ratings_by_user3)"
      ]
    },
    {
      "cell_type": "code",
      "execution_count": null,
      "id": "f2f40ba3",
      "metadata": {
        "id": "f2f40ba3",
        "outputId": "8eb1f8f9-4d70-4433-aebb-8f295fd13076"
      },
      "outputs": [
        {
          "data": {
            "text/plain": [
              "0.15423728813559323"
            ]
          },
          "execution_count": 43,
          "metadata": {},
          "output_type": "execute_result"
        }
      ],
      "source": [
        "# 4.全部客戶推薦方法二\n",
        "\n",
        "# 特徵：價錢、銷售排行\n",
        "# 客戶：新＋舊\n",
        "\n",
        "# 綜合兩種推薦規則評估：Recall = 0.15423 去掉 品名 特徵後，成效微幅提升。\n",
        "evaluate2(ratings_testings_by_user, ratings_by_user4)"
      ]
    },
    {
      "cell_type": "code",
      "execution_count": null,
      "id": "73f73479",
      "metadata": {
        "id": "73f73479"
      },
      "outputs": [],
      "source": [
        ""
      ]
    }
  ],
  "metadata": {
    "kernelspec": {
      "display_name": "Python 3 (ipykernel)",
      "language": "python",
      "name": "python3"
    },
    "language_info": {
      "codemirror_mode": {
        "name": "ipython",
        "version": 3
      },
      "file_extension": ".py",
      "mimetype": "text/x-python",
      "name": "python",
      "nbconvert_exporter": "python",
      "pygments_lexer": "ipython3",
      "version": "3.8.6"
    },
    "toc": {
      "base_numbering": 1,
      "nav_menu": {},
      "number_sections": true,
      "sideBar": true,
      "skip_h1_title": false,
      "title_cell": "Table of Contents",
      "title_sidebar": "Contents",
      "toc_cell": false,
      "toc_position": {
        "height": "calc(100% - 180px)",
        "left": "10px",
        "top": "150px",
        "width": "288px"
      },
      "toc_section_display": true,
      "toc_window_display": true
    },
    "colab": {
      "name": "sample-content-based.ipynb",
      "provenance": [],
      "include_colab_link": true
    }
  },
  "nbformat": 4,
  "nbformat_minor": 5
}
